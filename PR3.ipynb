{
 "cells": [
  {
   "cell_type": "markdown",
   "id": "e553c4ad",
   "metadata": {},
   "source": [
    "## sets\n",
    "- A set is an unordered collection of data type that is iterable,mutable and has no duplicate elements.Python's set class represents the matematical notion of a set.This is based on a data structure known as a hash table.indexing is not possible in set"
   ]
  },
  {
   "cell_type": "code",
   "execution_count": 3,
   "id": "73d8b16d",
   "metadata": {},
   "outputs": [
    {
     "name": "stdout",
     "output_type": "stream",
     "text": [
      "set()\n",
      "<class 'set'>\n"
     ]
    }
   ],
   "source": [
    "#definig an empty set\n",
    "\n",
    "set_var=set()\n",
    "print(set_var)\n",
    "print(type(set_var))"
   ]
  },
  {
   "cell_type": "code",
   "execution_count": 5,
   "id": "757f7b9b",
   "metadata": {},
   "outputs": [
    {
     "data": {
      "text/plain": [
       "{1, 2, 3, 4, 5}"
      ]
     },
     "execution_count": 5,
     "metadata": {},
     "output_type": "execute_result"
    }
   ],
   "source": [
    "set_var={1,2,3,4,5,1,2,3}\n",
    "set_var\n"
   ]
  },
  {
   "cell_type": "code",
   "execution_count": 11,
   "id": "013ec851",
   "metadata": {},
   "outputs": [
    {
     "name": "stdout",
     "output_type": "stream",
     "text": [
      "{'rasane', 'prerana', 'arun'}\n"
     ]
    },
    {
     "data": {
      "text/plain": [
       "set"
      ]
     },
     "execution_count": 11,
     "metadata": {},
     "output_type": "execute_result"
    }
   ],
   "source": [
    "set_var={\"prerana\",\"arun\",\"rasane\"}\n",
    "print(set_var)\n",
    "type(set_var)"
   ]
  },
  {
   "cell_type": "code",
   "execution_count": 12,
   "id": "b8a68da4",
   "metadata": {},
   "outputs": [],
   "source": [
    "## set inbuild function"
   ]
  },
  {
   "cell_type": "code",
   "execution_count": 13,
   "id": "e7c1e30a",
   "metadata": {},
   "outputs": [
    {
     "name": "stdout",
     "output_type": "stream",
     "text": [
      "{'kavita', 'rasane', 'prerana', 'arun'}\n"
     ]
    }
   ],
   "source": [
    "set_var.add(\"kavita\")\n",
    "print(set_var)\n"
   ]
  },
  {
   "cell_type": "code",
   "execution_count": 14,
   "id": "b4db6f12",
   "metadata": {},
   "outputs": [
    {
     "data": {
      "text/plain": [
       "{'kavita'}"
      ]
     },
     "execution_count": 14,
     "metadata": {},
     "output_type": "execute_result"
    }
   ],
   "source": [
    "set1={\"prerana\",\"arun\",\"rasane\"}\n",
    "set2={'kavita', 'rasane', 'prerana', 'arun'}\n",
    "set2.difference(set1)"
   ]
  },
  {
   "cell_type": "markdown",
   "id": "c199f4b7",
   "metadata": {},
   "source": [
    "## Dictionaries\n",
    "- dictionary is collection which is unoredered,changeble and indexed. In python dictionries are written in curly bracket, they have keys value. "
   ]
  },
  {
   "cell_type": "code",
   "execution_count": 27,
   "id": "02979168",
   "metadata": {},
   "outputs": [
    {
     "data": {
      "text/plain": [
       "dict"
      ]
     },
     "execution_count": 27,
     "metadata": {},
     "output_type": "execute_result"
    }
   ],
   "source": [
    "dic={}\n",
    "type(dic)"
   ]
  },
  {
   "cell_type": "code",
   "execution_count": 28,
   "id": "93e7f105",
   "metadata": {},
   "outputs": [
    {
     "data": {
      "text/plain": [
       "set"
      ]
     },
     "execution_count": 28,
     "metadata": {},
     "output_type": "execute_result"
    }
   ],
   "source": [
    "dic={1,2,3,4,5,6}\n",
    "type(dic)"
   ]
  },
  {
   "cell_type": "code",
   "execution_count": 32,
   "id": "f61d6d2c",
   "metadata": {},
   "outputs": [
    {
     "name": "stdout",
     "output_type": "stream",
     "text": [
      "{'car1': 'duster', 'car2': 'ertica', 'car3': 'bmw', 'car4': 'audi'}\n",
      "<class 'dict'>\n"
     ]
    }
   ],
   "source": [
    "## lets create dictionary\n",
    "my_dic={\"car1\":\"duster\",\"car2\":\"ertica\",\"car3\":\"bmw\",\"car4\":\"audi\"}\n",
    "print(my_dic)\n",
    "print(type(my_dic))"
   ]
  },
  {
   "cell_type": "code",
   "execution_count": 33,
   "id": "f9ce6bac",
   "metadata": {},
   "outputs": [
    {
     "data": {
      "text/plain": [
       "'duster'"
      ]
     },
     "execution_count": 33,
     "metadata": {},
     "output_type": "execute_result"
    }
   ],
   "source": [
    "my_dic[\"car1\"]"
   ]
  },
  {
   "cell_type": "code",
   "execution_count": 40,
   "id": "9ecc6c70",
   "metadata": {},
   "outputs": [
    {
     "name": "stdout",
     "output_type": "stream",
     "text": [
      "car1\n",
      "car2\n",
      "car3\n",
      "car4\n"
     ]
    }
   ],
   "source": [
    "# we can use looping in dictionary\n",
    "my_dic={\"car1\":\"duster\",\"car2\":\"ertica\",\"car3\":\"bmw\",\"car4\":\"audi\"}\n",
    "for i in my_dic:\n",
    "    print(i)"
   ]
  },
  {
   "cell_type": "code",
   "execution_count": 41,
   "id": "8f11f492",
   "metadata": {},
   "outputs": [
    {
     "name": "stdout",
     "output_type": "stream",
     "text": [
      "duster\n",
      "ertica\n",
      "bmw\n",
      "audi\n"
     ]
    }
   ],
   "source": [
    "my_dic={\"car1\":\"duster\",\"car2\":\"ertica\",\"car3\":\"bmw\",\"car4\":\"audi\"}\n",
    "for i in my_dic.values():\n",
    "    print(i)"
   ]
  },
  {
   "cell_type": "code",
   "execution_count": 42,
   "id": "a1f86ea2",
   "metadata": {},
   "outputs": [
    {
     "name": "stdout",
     "output_type": "stream",
     "text": [
      "('car1', 'duster')\n",
      "('car2', 'ertica')\n",
      "('car3', 'bmw')\n",
      "('car4', 'audi')\n"
     ]
    }
   ],
   "source": [
    "my_dic={\"car1\":\"duster\",\"car2\":\"ertica\",\"car3\":\"bmw\",\"car4\":\"audi\"}\n",
    "for i in my_dic.items():\n",
    "    print(i)"
   ]
  },
  {
   "cell_type": "code",
   "execution_count": 43,
   "id": "cc1982e8",
   "metadata": {},
   "outputs": [],
   "source": [
    "my_dic[\"car4\"]=\"audii405\""
   ]
  },
  {
   "cell_type": "code",
   "execution_count": 45,
   "id": "c267813d",
   "metadata": {},
   "outputs": [
    {
     "name": "stdout",
     "output_type": "stream",
     "text": [
      "{'car1': 'duster', 'car2': 'ertica', 'car3': 'bmw', 'car4': 'audii405'}\n"
     ]
    }
   ],
   "source": [
    "print(my_dic)"
   ]
  },
  {
   "cell_type": "markdown",
   "id": "0a84ac90",
   "metadata": {},
   "source": [
    "## Nested dictionary"
   ]
  },
  {
   "cell_type": "code",
   "execution_count": 49,
   "id": "28c7f140",
   "metadata": {},
   "outputs": [
    {
     "name": "stdout",
     "output_type": "stream",
     "text": [
      "{'carA': {'ertica': 1001}, 'carB': {'Audi': 1006}, 'carC': {'creta': 1009}, 'carD': {'duster': 1011}}\n"
     ]
    }
   ],
   "source": [
    "car1={\"ertica\":1001}\n",
    "car2={\"Audi\":1006}\n",
    "car3={\"creta\":1009}\n",
    "car4={\"duster\":1011}\n",
    "car_type={\"carA\":car1,\"carB\":car2,\"carC\":car3,\"carD\":car4}\n",
    "print(car_type)"
   ]
  },
  {
   "cell_type": "code",
   "execution_count": 50,
   "id": "40520ce4",
   "metadata": {},
   "outputs": [
    {
     "name": "stdout",
     "output_type": "stream",
     "text": [
      "{'ertica': 1001}\n"
     ]
    }
   ],
   "source": [
    "print(car_type[\"carA\"])"
   ]
  },
  {
   "cell_type": "code",
   "execution_count": 51,
   "id": "6a4d1a4a",
   "metadata": {},
   "outputs": [
    {
     "name": "stdout",
     "output_type": "stream",
     "text": [
      "1001\n"
     ]
    }
   ],
   "source": [
    "print(car_type[\"carA\"][\"ertica\"])"
   ]
  },
  {
   "cell_type": "markdown",
   "id": "40b7a24b",
   "metadata": {},
   "source": [
    "# # tuples\n",
    "- round bracket\n",
    "-indexing allowed\n",
    "-tuple are immutable"
   ]
  },
  {
   "cell_type": "code",
   "execution_count": 52,
   "id": "ebd959d1",
   "metadata": {},
   "outputs": [
    {
     "data": {
      "text/plain": [
       "tuple"
      ]
     },
     "execution_count": 52,
     "metadata": {},
     "output_type": "execute_result"
    }
   ],
   "source": [
    "my_tuple=tuple()\n",
    "type(my_tuple)"
   ]
  },
  {
   "cell_type": "code",
   "execution_count": 56,
   "id": "dbd6e925",
   "metadata": {},
   "outputs": [
    {
     "name": "stdout",
     "output_type": "stream",
     "text": [
      "('kavita', 'rasane', 'prerana', 'arun')\n",
      "<class 'tuple'>\n"
     ]
    }
   ],
   "source": [
    "my_tuple=('kavita', 'rasane', 'prerana', 'arun')\n",
    "print(my_tuple)\n",
    "print(type(my_tuple))"
   ]
  },
  {
   "cell_type": "code",
   "execution_count": 55,
   "id": "2f802e05",
   "metadata": {},
   "outputs": [
    {
     "data": {
      "text/plain": [
       "'kavita'"
      ]
     },
     "execution_count": 55,
     "metadata": {},
     "output_type": "execute_result"
    }
   ],
   "source": [
    "my_tuple[0]"
   ]
  },
  {
   "cell_type": "code",
   "execution_count": 58,
   "id": "c3eb69fc",
   "metadata": {},
   "outputs": [
    {
     "data": {
      "text/plain": [
       "1"
      ]
     },
     "execution_count": 58,
     "metadata": {},
     "output_type": "execute_result"
    }
   ],
   "source": [
    "my_tuple.count('kavita')"
   ]
  },
  {
   "cell_type": "code",
   "execution_count": 59,
   "id": "eff04782",
   "metadata": {},
   "outputs": [
    {
     "data": {
      "text/plain": [
       "3"
      ]
     },
     "execution_count": 59,
     "metadata": {},
     "output_type": "execute_result"
    }
   ],
   "source": [
    "my_tuple.index('arun')"
   ]
  },
  {
   "cell_type": "code",
   "execution_count": null,
   "id": "1ae01829",
   "metadata": {},
   "outputs": [],
   "source": []
  }
 ],
 "metadata": {
  "kernelspec": {
   "display_name": "Python 3 (ipykernel)",
   "language": "python",
   "name": "python3"
  },
  "language_info": {
   "codemirror_mode": {
    "name": "ipython",
    "version": 3
   },
   "file_extension": ".py",
   "mimetype": "text/x-python",
   "name": "python",
   "nbconvert_exporter": "python",
   "pygments_lexer": "ipython3",
   "version": "3.9.7"
  }
 },
 "nbformat": 4,
 "nbformat_minor": 5
}
